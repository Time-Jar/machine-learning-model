{
 "cells": [
  {
   "cell_type": "markdown",
   "metadata": {},
   "source": [
    "## 1. Fetching Data from Supabase"
   ]
  },
  {
   "cell_type": "code",
   "execution_count": 2,
   "metadata": {},
   "outputs": [
    {
     "name": "stderr",
     "output_type": "stream",
     "text": [
      "2023-11-19 20:05:14,118:INFO - HTTP Request: GET https://supabase.cloud-atlas.xyz/rest/v1/users?select=%2A \"HTTP/1.1 200 OK\"\n",
      "2023-11-19 20:05:14,132:INFO - HTTP Request: GET https://supabase.cloud-atlas.xyz/rest/v1/user_location?select=%2A \"HTTP/1.1 200 OK\"\n",
      "2023-11-19 20:05:14,142:INFO - HTTP Request: GET https://supabase.cloud-atlas.xyz/rest/v1/user_behavior?select=%2A \"HTTP/1.1 200 OK\"\n",
      "2023-11-19 20:05:14,153:INFO - HTTP Request: GET https://supabase.cloud-atlas.xyz/rest/v1/user_app_usage?select=%2A \"HTTP/1.1 200 OK\"\n",
      "2023-11-19 20:05:14,164:INFO - HTTP Request: GET https://supabase.cloud-atlas.xyz/rest/v1/_app_names?select=%2A \"HTTP/1.1 200 OK\"\n",
      "2023-11-19 20:05:14,175:INFO - HTTP Request: GET https://supabase.cloud-atlas.xyz/rest/v1/_actions?select=%2A \"HTTP/1.1 200 OK\"\n"
     ]
    }
   ],
   "source": [
    "from supabase import create_client, Client\n",
    "import pandas as pd\n",
    "import os as os\n",
    "from dotenv import load_dotenv\n",
    "\n",
    "load_dotenv()\n",
    "\n",
    "# Initialize Supabase client\n",
    "url: str = os.environ.get(\"SUPABASE_PUBLIC_URL\")\n",
    "key: str = os.environ.get(\"SUPABASE_SERVICE_ROLE_KEY\")\n",
    "supabase: Client = create_client(url, key)\n",
    "\n",
    "# Fetch data from each table\n",
    "users_data = supabase.table(\"users\").select(\"*\").execute().data\n",
    "user_location_data = supabase.table(\"user_location\").select(\"*\").execute().data\n",
    "user_behavior_data = supabase.table(\"user_behavior\").select(\"*\").execute().data\n",
    "user_app_usage_data = supabase.table(\"user_app_usage\").select(\"*\").execute().data\n",
    "\n",
    "_app_names_data = supabase.table(\"_app_names\").select(\"*\").execute().data\n",
    "_actions_data = supabase.table(\"_actions\").select(\"*\").execute().data"
   ]
  },
  {
   "cell_type": "code",
   "execution_count": 3,
   "metadata": {},
   "outputs": [
    {
     "data": {
      "text/html": [
       "<div>\n",
       "<style scoped>\n",
       "    .dataframe tbody tr th:only-of-type {\n",
       "        vertical-align: middle;\n",
       "    }\n",
       "\n",
       "    .dataframe tbody tr th {\n",
       "        vertical-align: top;\n",
       "    }\n",
       "\n",
       "    .dataframe thead th {\n",
       "        text-align: right;\n",
       "    }\n",
       "</style>\n",
       "<table border=\"1\" class=\"dataframe\">\n",
       "  <thead>\n",
       "    <tr style=\"text-align: right;\">\n",
       "      <th></th>\n",
       "      <th>id</th>\n",
       "      <th>created_at</th>\n",
       "      <th>user_id</th>\n",
       "      <th>location</th>\n",
       "      <th>start_time</th>\n",
       "      <th>end_time</th>\n",
       "    </tr>\n",
       "  </thead>\n",
       "  <tbody>\n",
       "    <tr>\n",
       "      <th>0</th>\n",
       "      <td>1</td>\n",
       "      <td>2023-11-19T16:00:21.232935+00:00</td>\n",
       "      <td>f7427faa-c131-402a-9578-b742aaf3b5bd</td>\n",
       "      <td>cafe</td>\n",
       "      <td>2023-11-19T10:01:01+00:00</td>\n",
       "      <td>2023-11-19T12:02:02+00:00</td>\n",
       "    </tr>\n",
       "  </tbody>\n",
       "</table>\n",
       "</div>"
      ],
      "text/plain": [
       "   id                        created_at                               user_id  \\\n",
       "0   1  2023-11-19T16:00:21.232935+00:00  f7427faa-c131-402a-9578-b742aaf3b5bd   \n",
       "\n",
       "  location                 start_time                   end_time  \n",
       "0     cafe  2023-11-19T10:01:01+00:00  2023-11-19T12:02:02+00:00  "
      ]
     },
     "execution_count": 3,
     "metadata": {},
     "output_type": "execute_result"
    }
   ],
   "source": [
    "# Convert to pandas DataFrames\n",
    "df_users = pd.DataFrame(users_data)\n",
    "df_user_location = pd.DataFrame(user_location_data)\n",
    "df_user_behavior = pd.DataFrame(user_behavior_data)\n",
    "df_user_app_usage = pd.DataFrame(user_app_usage_data)\n",
    "\n",
    "df__app_names = pd.DataFrame(_app_names_data)\n",
    "df__actions = pd.DataFrame(_actions_data)\n",
    "\n",
    "# Verify the structure of the dataframes\n",
    "df_user_location.head()"
   ]
  },
  {
   "cell_type": "markdown",
   "metadata": {},
   "source": [
    "##  2. Data Preprocessing\n",
    "\n",
    "Calculate/simplify data"
   ]
  },
  {
   "cell_type": "code",
   "execution_count": 10,
   "metadata": {},
   "outputs": [
    {
     "name": "stdout",
     "output_type": "stream",
     "text": [
      "Check the results\n"
     ]
    },
    {
     "data": {
      "text/html": [
       "<div>\n",
       "<style scoped>\n",
       "    .dataframe tbody tr th:only-of-type {\n",
       "        vertical-align: middle;\n",
       "    }\n",
       "\n",
       "    .dataframe tbody tr th {\n",
       "        vertical-align: top;\n",
       "    }\n",
       "\n",
       "    .dataframe thead th {\n",
       "        text-align: right;\n",
       "    }\n",
       "</style>\n",
       "<table border=\"1\" class=\"dataframe\">\n",
       "  <thead>\n",
       "    <tr style=\"text-align: right;\">\n",
       "      <th></th>\n",
       "      <th>user_id</th>\n",
       "      <th>location</th>\n",
       "      <th>start_time</th>\n",
       "      <th>duration</th>\n",
       "    </tr>\n",
       "  </thead>\n",
       "  <tbody>\n",
       "    <tr>\n",
       "      <th>0</th>\n",
       "      <td>f7427faa-c131-402a-9578-b742aaf3b5bd</td>\n",
       "      <td>cafe</td>\n",
       "      <td>2023-11-19T10:01:01+00:00</td>\n",
       "      <td>7261.0</td>\n",
       "    </tr>\n",
       "  </tbody>\n",
       "</table>\n",
       "</div>"
      ],
      "text/plain": [
       "                                user_id location                 start_time  \\\n",
       "0  f7427faa-c131-402a-9578-b742aaf3b5bd     cafe  2023-11-19T10:01:01+00:00   \n",
       "\n",
       "   duration  \n",
       "0    7261.0  "
      ]
     },
     "execution_count": 10,
     "metadata": {},
     "output_type": "execute_result"
    }
   ],
   "source": [
    "from datetime import datetime\n",
    "\n",
    "def convert_string_to_date(df_original, dob_column):\n",
    "    \"\"\"\n",
    "    Converts a date of birth column from string to datetime and calculates the age.\n",
    "    \"\"\"\n",
    "    df = df_original.copy()\n",
    "    df[dob_column] = pd.to_datetime(df[dob_column])\n",
    "    df['age'] = df[dob_column].apply(\n",
    "        lambda dob: datetime.now().year - dob.year - ((datetime.now().month, datetime.now().day) < (dob.month, dob.day))\n",
    "    )\n",
    "    return df\n",
    "\n",
    "\n",
    "def calculate_duration_and_drop_end_time(df_original, start_time_col='start_time', end_time_col='end_time'):\n",
    "    \"\"\"\n",
    "    Calculates the duration in seconds between start and end times, and drops the end time column.\n",
    "    \"\"\"\n",
    "    df = df_original.copy()\n",
    "    df['duration'] = df.apply(\n",
    "        lambda row: (pd.to_datetime(row[end_time_col]).tz_convert('UTC') - pd.to_datetime(row[start_time_col]).tz_convert('UTC')).total_seconds(),\n",
    "        axis=1\n",
    "    )\n",
    "    df.drop(end_time_col, axis=1, inplace=True)\n",
    "    return df\n",
    "\n",
    "# Apply\n",
    "df_users_time = convert_string_to_date(df_users, 'date_of_birth')\n",
    "\n",
    "df_user_location_time = calculate_duration_and_drop_end_time(df_user_location)\n",
    "df_user_behavior_time = calculate_duration_and_drop_end_time(df_user_behavior)\n",
    "df_user_app_usage_time = calculate_duration_and_drop_end_time(df_user_app_usage)\n",
    "\n",
    "\n",
    "# Delete non-needed attributes\n",
    "df_user_location_time.drop('id', axis=1, inplace=True)\n",
    "df_user_behavior_time.drop('id', axis=1, inplace=True)\n",
    "df_user_app_usage_time.drop('id', axis=1, inplace=True)\n",
    "\n",
    "df_user_location_time.drop('created_at', axis=1, inplace=True)\n",
    "df_user_behavior_time.drop('created_at', axis=1, inplace=True)\n",
    "df_user_app_usage_time.drop('created_at', axis=1, inplace=True)\n",
    "\n",
    "print(\"Check the results\")\n",
    "df_user_location_time.head()"
   ]
  },
  {
   "cell_type": "markdown",
   "metadata": {},
   "source": [
    "Normalize data"
   ]
  },
  {
   "cell_type": "code",
   "execution_count": 25,
   "metadata": {},
   "outputs": [
    {
     "name": "stdout",
     "output_type": "stream",
     "text": [
      "Check the results\n"
     ]
    },
    {
     "data": {
      "text/html": [
       "<div>\n",
       "<style scoped>\n",
       "    .dataframe tbody tr th:only-of-type {\n",
       "        vertical-align: middle;\n",
       "    }\n",
       "\n",
       "    .dataframe tbody tr th {\n",
       "        vertical-align: top;\n",
       "    }\n",
       "\n",
       "    .dataframe thead th {\n",
       "        text-align: right;\n",
       "    }\n",
       "</style>\n",
       "<table border=\"1\" class=\"dataframe\">\n",
       "  <thead>\n",
       "    <tr style=\"text-align: right;\">\n",
       "      <th></th>\n",
       "      <th>app_name</th>\n",
       "      <th>start_time</th>\n",
       "      <th>user_id</th>\n",
       "      <th>acceptance</th>\n",
       "      <th>duration</th>\n",
       "    </tr>\n",
       "  </thead>\n",
       "  <tbody>\n",
       "    <tr>\n",
       "      <th>0</th>\n",
       "      <td>2</td>\n",
       "      <td>2023-11-19T10:00:00+00:00</td>\n",
       "      <td>f7427faa-c131-402a-9578-b742aaf3b5bd</td>\n",
       "      <td>4</td>\n",
       "      <td>0.031204</td>\n",
       "    </tr>\n",
       "  </tbody>\n",
       "</table>\n",
       "</div>"
      ],
      "text/plain": [
       "   app_name                 start_time                               user_id  \\\n",
       "0         2  2023-11-19T10:00:00+00:00  f7427faa-c131-402a-9578-b742aaf3b5bd   \n",
       "\n",
       "   acceptance  duration  \n",
       "0           4  0.031204  "
      ]
     },
     "execution_count": 25,
     "metadata": {},
     "output_type": "execute_result"
    }
   ],
   "source": [
    "def normalize_data(df_original, column, fixed_max=None):\n",
    "    \"\"\"\n",
    "    Normalizes a specified column of the DataFrame.\n",
    "    \"\"\"\n",
    "    df = df_original.copy()\n",
    "\n",
    "    # Normalize the column\n",
    "    df[column] = df[column] / fixed_max\n",
    "    \n",
    "    # Ensure that the values do not exceed 1, more than 1 are clipped to 1\n",
    "    df[column] = df[column].clip(lower=0, upper=1)\n",
    "    \n",
    "    return df\n",
    "\n",
    "\n",
    "# Normalize age\n",
    "df_users_normalized = normalize_data(df_users_time, 'age', fixed_max=130) # max-age fixed to 130 years\n",
    "\n",
    "# Normalize duration\n",
    "df_user_location_normalized = normalize_data(df_user_location_time, 'duration', fixed_max=86400) # 24h max\n",
    "df_user_behavior_normalized = normalize_data(df_user_behavior_time, 'duration', fixed_max=86400) # 24h max\n",
    "df_user_app_usage_normalized = normalize_data(df_user_app_usage_time, 'duration', fixed_max=86400) # 24h max\n",
    "\n",
    "print(\"Check the results\")\n",
    "df_user_app_usage_normalized.head()\n",
    "# df_user_app_usage_normalized.dtypes"
   ]
  },
  {
   "cell_type": "markdown",
   "metadata": {},
   "source": [
    "Merge data\n",
    "\n",
    "# TODO from here"
   ]
  },
  {
   "cell_type": "code",
   "execution_count": null,
   "metadata": {},
   "outputs": [],
   "source": [
    "# Mapping for app names\n",
    "app_name_to_id = {name: idx for idx, name in enumerate(df__app_names['app_name'].unique(), 1)}\n",
    "df_user_app_usage_normalized['app_name_id'] = df_user_app_usage_normalized['app_name'].map(app_name_to_id)\n",
    "\n",
    "# Mapping for actions\n",
    "action_to_id = {action: idx for idx, action in enumerate(df__actions['action'].unique(), 1)}\n",
    "df_user_behavior_normalized['action_id'] = df_user_behavior_normalized['action'].map(action_to_id)\n"
   ]
  },
  {
   "cell_type": "markdown",
   "metadata": {},
   "source": [
    "## 3. TensorFlow Model"
   ]
  },
  {
   "cell_type": "code",
   "execution_count": null,
   "metadata": {},
   "outputs": [],
   "source": [
    "import tensorflow as tf\n",
    "\n",
    "def build_transformer_model(num_unique_apps, num_unique_actions, embedding_dim, num_numerical_features):\n",
    "    # Embedding layers\n",
    "    app_input = tf.keras.layers.Input(shape=(1,), name='app_input')\n",
    "    app_embedding = tf.keras.layers.Embedding(input_dim=num_unique_apps, output_dim=embedding_dim)(app_input)\n",
    "    \n",
    "    action_input = tf.keras.layers.Input(shape=(1,), name='action_input')\n",
    "    action_embedding = tf.keras.layers.Embedding(input_dim=num_unique_actions, output_dim=embedding_dim)(action_input)\n",
    "    \n",
    "    # Additional inputs (e.g., age, duration)\n",
    "    numerical_input = tf.keras.layers.Input(shape=(num_numerical_features,), name='numerical_input')\n",
    "    \n",
    "    # Combine inputs\n",
    "    combined = tf.keras.layers.concatenate([app_embedding, action_embedding, numerical_input])\n",
    "\n",
    "    # Transformer or Dense layers\n",
    "    x = tf.keras.layers.Dense(64, activation='relu')(combined)\n",
    "    x = tf.keras.layers.Dense(32, activation='relu')(x)\n",
    "    output = tf.keras.layers.Dense(1, activation='sigmoid')(x)\n",
    "\n",
    "    model = tf.keras.Model(inputs=[app_input, action_input, numerical_input], outputs=output)\n",
    "    return model\n",
    "\n",
    "# Example parameters\n",
    "model = build_transformer_model(num_unique_apps=len(app_name_to_id),\n",
    "                                num_unique_actions=len(action_to_id),\n",
    "                                embedding_dim=32,\n",
    "                                num_numerical_features=2) # Update based on actual number of numerical features\n"
   ]
  },
  {
   "cell_type": "markdown",
   "metadata": {},
   "source": [
    "## 4. Making Predictions"
   ]
  },
  {
   "cell_type": "code",
   "execution_count": null,
   "metadata": {},
   "outputs": [],
   "source": [
    "# Evaluate the model\n",
    "model.compile(optimizer='adam', loss='binary_crossentropy', metrics=['accuracy'])\n",
    "\n",
    "# Prepare your input data as tensors or numpy arrays in the format the model expects\n",
    "# Train the model\n",
    "# model.fit(...)\n",
    "\n",
    "loss, accuracy = model.evaluate(X_test, y_test)\n",
    "print(f\"Test Accuracy: {accuracy * 100:.2f}%\")\n",
    "\n",
    "# Predict on new data\n",
    "new_data_preprocessed = # preprocess new data similarly\n",
    "prediction = model.predict(new_data_preprocessed)\n",
    "block_user_decision = prediction > 0.5  # Adjust threshold based on your requirement\n"
   ]
  }
 ],
 "metadata": {
  "kernelspec": {
   "display_name": "Python 3",
   "language": "python",
   "name": "python3"
  },
  "language_info": {
   "codemirror_mode": {
    "name": "ipython",
    "version": 3
   },
   "file_extension": ".py",
   "mimetype": "text/x-python",
   "name": "python",
   "nbconvert_exporter": "python",
   "pygments_lexer": "ipython3",
   "version": "3.10.12"
  }
 },
 "nbformat": 4,
 "nbformat_minor": 2
}
