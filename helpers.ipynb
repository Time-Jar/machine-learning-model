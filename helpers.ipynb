{
 "cells": [
  {
   "cell_type": "markdown",
   "metadata": {},
   "source": [
    "### Input types"
   ]
  },
  {
   "cell_type": "code",
   "execution_count": 1,
   "metadata": {},
   "outputs": [],
   "source": [
    "from supabase import create_client, Client\n",
    "import pandas as pd\n",
    "import os as os\n",
    "from dotenv import load_dotenv\n",
    "\n",
    "load_dotenv()\n",
    "\n",
    "# Initialize Supabase client\n",
    "url: str = os.environ.get(\"SUPABASE_PUBLIC_URL\")\n",
    "key: str = os.environ.get(\"SUPABASE_SERVICE_ROLE_KEY\")\n",
    "supabase: Client = create_client(url, key)"
   ]
  },
  {
   "cell_type": "code",
   "execution_count": 7,
   "metadata": {},
   "outputs": [],
   "source": [
    "# Function to read the file and return a list of entries\n",
    "def read_file(file_path):\n",
    "    with open(file_path, 'r') as file:\n",
    "        return file.read().splitlines()\n",
    "\n",
    "# Function to synchronize file entries into Supabase\n",
    "def synchronize_entries(supabase, table_name, column_name, entries):\n",
    "    # Fetch existing entries from the table\n",
    "    existing_entries_result = supabase.table(table_name).select(column_name).execute()\n",
    "    existing_entries = [entry[column_name] for entry in existing_entries_result.data]\n",
    "\n",
    "    # Entries to be added (present in file but not in the table)\n",
    "    entries_to_add = [entry for entry in entries if entry not in existing_entries]\n",
    "\n",
    "    # Entries to be deleted (present in the table but not in the file)\n",
    "    entries_to_delete = [entry for entry in existing_entries if entry not in entries]\n",
    "\n",
    "    # Insert new entries\n",
    "    if entries_to_add:\n",
    "        supabase.table(table_name).insert([{column_name: entry} for entry in entries_to_add]).execute()\n",
    "        print(f\"Inserted {len(entries_to_add)} new entries into table {table_name}.\")\n",
    "\n",
    "    # Delete entries not in file\n",
    "    if entries_to_delete:\n",
    "        for entry in entries_to_delete:\n",
    "            supabase.table(table_name).delete().eq(column_name, entry).execute()\n",
    "        print(f\"Deleted {len(entries_to_delete)} entries from table {table_name}.\")\n",
    "\n",
    "    if not entries_to_add and not entries_to_delete:\n",
    "        print(f\"Table {table_name} is already synchronized with the file.\")"
   ]
  },
  {
   "cell_type": "code",
   "execution_count": 8,
   "metadata": {},
   "outputs": [
    {
     "name": "stderr",
     "output_type": "stream",
     "text": [
      "2023-11-21 11:59:32,623:INFO - HTTP Request: GET https://supabase.cloud-atlas.xyz/rest/v1/_acceptance?select=acceptance \"HTTP/1.1 200 OK\"\n",
      "2023-11-21 11:59:32,635:INFO - HTTP Request: GET https://supabase.cloud-atlas.xyz/rest/v1/_actions?select=action \"HTTP/1.1 200 OK\"\n",
      "2023-11-21 11:59:32,648:INFO - HTTP Request: GET https://supabase.cloud-atlas.xyz/rest/v1/_place_types?select=place_type \"HTTP/1.1 200 OK\"\n",
      "2023-11-21 11:59:32,660:INFO - HTTP Request: GET https://supabase.cloud-atlas.xyz/rest/v1/_sex?select=sex \"HTTP/1.1 200 OK\"\n"
     ]
    },
    {
     "name": "stdout",
     "output_type": "stream",
     "text": [
      "Table _acceptance is already synchronized with the file.\n",
      "Table _actions is already synchronized with the file.\n",
      "Table _place_types is already synchronized with the file.\n",
      "Table _sex is already synchronized with the file.\n"
     ]
    }
   ],
   "source": [
    "# Synchronize entries in Supabase\n",
    "synchronize_entries(supabase, '_acceptance', 'acceptance', read_file('tables/_acceptance.txt'))\n",
    "synchronize_entries(supabase, '_actions', 'action', read_file('tables/_actions.txt'))\n",
    "synchronize_entries(supabase, '_place_types', 'place_type', read_file('tables/_place_types.txt'))\n",
    "synchronize_entries(supabase, '_sex', 'sex', read_file('tables/_sex.txt'))"
   ]
  }
 ],
 "metadata": {
  "kernelspec": {
   "display_name": "Python 3",
   "language": "python",
   "name": "python3"
  },
  "language_info": {
   "codemirror_mode": {
    "name": "ipython",
    "version": 3
   },
   "file_extension": ".py",
   "mimetype": "text/x-python",
   "name": "python",
   "nbconvert_exporter": "python",
   "pygments_lexer": "ipython3",
   "version": "3.10.12"
  }
 },
 "nbformat": 4,
 "nbformat_minor": 2
}
